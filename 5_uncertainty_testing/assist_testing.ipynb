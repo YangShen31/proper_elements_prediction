{
 "cells": [
  {
   "cell_type": "code",
   "execution_count": 1,
   "id": "6923ee4e",
   "metadata": {},
   "outputs": [],
   "source": [
    "from pathlib import Path\n",
    "from multiprocessing import Pool\n",
    "import numpy as np\n",
    "import matplotlib.pyplot as plt\n",
    "import pandas as pd\n",
    "\n",
    "import rebound as rb\n",
    "import celmech as cm\n",
    "import assist"
   ]
  },
  {
   "cell_type": "code",
   "execution_count": 9,
   "id": "5aea56f3",
   "metadata": {},
   "outputs": [],
   "source": [
    "ephem = assist.Ephem(\"../data/assist/linux_m13000p17000.441\", \"../data/assist/sb441-n16.bsp\")"
   ]
  },
  {
   "cell_type": "code",
   "execution_count": 4,
   "id": "c2e43814",
   "metadata": {},
   "outputs": [
    {
     "name": "stdout",
     "output_type": "stream",
     "text": [
      "Outer Planets Only: True\n"
     ]
    }
   ],
   "source": [
    "outer_only = True\n",
    "print(f\"Outer Planets Only: {outer_only}\")\n",
    "# %%\n",
    "integration_path = Path(\"../data\") / \"uncertainty_integrations\"\n",
    "integration_path.mkdir(parents=True, exist_ok=True)\n",
    "# %%\n",
    "merged_df = pd.read_csv(\"../data/uncertainty_asteroids_sampled.csv\", index_col=0)\n",
    "start_time = 2460200.5"
   ]
  },
  {
   "cell_type": "code",
   "execution_count": 12,
   "id": "ef9433c2",
   "metadata": {},
   "outputs": [],
   "source": [
    "if not outer_only:\n",
    "    planets_list = [\n",
    "    \"Sun\",\n",
    "    \"Mercury\",\n",
    "    \"Venus\",\n",
    "    \"Earth\",\n",
    "    \"Mars\",\n",
    "    \"Jupiter\",\n",
    "    \"Saturn\",\n",
    "    \"Uranus\",\n",
    "    \"Neptune\"\n",
    "\t]\n",
    "\n",
    "planets_list = [\n",
    "    \"Jupiter\",\n",
    "    \"Saturn\",\n",
    "    \"Uranus\",\n",
    "    \"Neptune\"\n",
    "]\n",
    "    "
   ]
  },
  {
   "cell_type": "code",
   "execution_count": null,
   "id": "dc37d272",
   "metadata": {},
   "outputs": [
    {
     "data": {
      "text/plain": [
       "<rebound.particle.Particle object at 0x7f8da080c0d0, m=4.912500194889318e-11 x=0.32032471385414324 y=0.08280401518697646 z=0.0105914870745157 vx=-0.01227154195924966 vy=0.02480958444682478 vz=0.014526308490559848>"
      ]
     },
     "execution_count": 11,
     "metadata": {},
     "output_type": "execute_result"
    }
   ],
   "source": [
    "def add_planets(sim):\n",
    "\tfor name in planets_list:\n",
    "\t\tplanet = ephem.get_particle(name, start_time - ephem.jd_ref)\n",
    "\t\tsim.add(planet)"
   ]
  },
  {
   "cell_type": "code",
   "execution_count": null,
   "id": "d72f0305",
   "metadata": {},
   "outputs": [],
   "source": [
    "def run_sim(r):\n",
    "\tidx, row = r\n",
    "\n",
    "\t# Integrate backwards to Nesvorny epoch\n",
    "\tsim = rb.Simulation()\n",
    "\tex = assist.Extras(sim, ephem)\n",
    "\tadd_planets(sim)  \n",
    "\tsim.t = row['epoch'] - ephem.jd_ref\n",
    "\tsim.move_to_hel()\n",
    "\tsim.add(x=row['x'], y=row['y'], z=row['z'], \n",
    "\t\t vx=row['vx']/(np.pi*2), vy=row['vy']/(np.pi*2), vz=row['vz']/(np.pi*2))\n",
    "\tsim.integrate(start_time - ephem.jd_ref)\n",
    "\tsim.move_to_com()\n",
    "\tsim.exit_max_distance = 50.\n",
    "\n",
    "\t# Create a new simulation and integrate forward\n",
    "\tps = sim.particles\n",
    "\tps_asteroid = ps[-1]\n",
    "\tps_final = {\n",
    "\t\t'x': ps_asteroid.x,\n",
    "\t\t'y': ps_asteroid.y,\n",
    "\t\t'z': ps_asteroid.z,\n",
    "\t\t'vx': ps_asteroid.vx,\n",
    "\t\t'vy': ps_asteroid.vy,\n",
    "\t\t'vz': ps_asteroid.vz\n",
    "\t}\n",
    "\n",
    "\tsim2 = rb.Simulation()\n",
    "\tex2 = assist.Extras(sim2, ephem)\n",
    "\tadd_planets(sim2)\n",
    "\tsim2.move_to_hel()\n",
    "\tsim2.t = start_time - ephem.jd_ref\n",
    "\n",
    "\tsim2.add(x=ps_final['x'], y=ps_final['y'], z=ps_final['z'], \n",
    "\t\t  vx=ps_final['vx'], vy=ps_final['vy'], vz=ps_final['vz'])\n",
    "\t\n",
    "\tps2 = sim2.particles\n",
    "\tsim2.integrator = 'whfast'\n",
    "\tsim2.dt = ps2[1].P/100.\n",
    "\tsim2.ri_whfast.safe_mode = 0\n",
    "\n",
    "\tTfin_approx = 3e7*ps2[-1].P\n",
    "\ttotal_steps = np.ceil(Tfin_approx / sim2.dt)\n",
    "\tTfin = total_steps * sim2.dt + sim2.dt\n",
    "\tNout = 25_000\n",
    "\n",
    "\tsim_file = integration_path / f\"asteroid_integration_{row[\"Des'n\"]}-{idx}.sa\"\n",
    "\tsim2.save_to_file(str(sim_file), step=int(np.floor(total_steps/Nout)), delete_file=True)\n",
    "\tsim2.integrate(Tfin, exact_finish_time=0)"
   ]
  },
  {
   "cell_type": "code",
   "execution_count": null,
   "id": "e801f000",
   "metadata": {},
   "outputs": [],
   "source": [
    "with Pool(40) as p:\n",
    "      p.map(run_sim, merged_df.iterrows())"
   ]
  }
 ],
 "metadata": {
  "kernelspec": {
   "display_name": "lshen",
   "language": "python",
   "name": "python3"
  },
  "language_info": {
   "codemirror_mode": {
    "name": "ipython",
    "version": 3
   },
   "file_extension": ".py",
   "mimetype": "text/x-python",
   "name": "python",
   "nbconvert_exporter": "python",
   "pygments_lexer": "ipython3",
   "version": "3.12.8"
  }
 },
 "nbformat": 4,
 "nbformat_minor": 5
}
