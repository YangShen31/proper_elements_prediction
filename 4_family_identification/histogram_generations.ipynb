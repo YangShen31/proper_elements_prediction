{
 "cells": [
  {
   "cell_type": "code",
   "execution_count": 14,
   "id": "3cf85611",
   "metadata": {},
   "outputs": [],
   "source": [
    "import pandas as pd\n",
    "import numpy as np\n",
    "import matplotlib.pyplot as plt\n",
    "from mpl_toolkits.mplot3d import Axes3D\n",
    "import math\n",
    "from pathlib import Path\n",
    "import re\n",
    "\n",
    "plt.style.use('../paper.mplstyle')"
   ]
  },
  {
   "cell_type": "code",
   "execution_count": 15,
   "id": "d71ec438",
   "metadata": {},
   "outputs": [
    {
     "name": "stderr",
     "output_type": "stream",
     "text": [
      "/tmp/ipykernel_38634/3022341705.py:2: DtypeWarning: Columns (1) have mixed types. Specify dtype option on import or set low_memory=False.\n",
      "  nesvorny_elements = pd.read_csv(\"../data/nesvorny_catalog_dataset.csv\")\n"
     ]
    }
   ],
   "source": [
    "df_ngb = pd.read_csv(\"../data/model_results.csv\")\n",
    "nesvorny_elements = pd.read_csv(\"../data/nesvorny_catalog_dataset.csv\")\n",
    "df_ngb = pd.merge(df_ngb, nesvorny_elements[[\"Des'n\", 'a', 'da', 'de', 'dsini']], on=\"Des'n\", how=\"inner\")"
   ]
  },
  {
   "cell_type": "code",
   "execution_count": 16,
   "id": "e70e054f",
   "metadata": {},
   "outputs": [],
   "source": [
    "propa = df_ngb[\"propa\"]\n",
    "prope = df_ngb[\"prope\"]\n",
    "propsini = df_ngb[\"propsini\"]\n",
    "\n",
    "test_name_list = df_ngb['Des\\'n']"
   ]
  },
  {
   "cell_type": "code",
   "execution_count": 17,
   "id": "4bc3f0e5",
   "metadata": {},
   "outputs": [],
   "source": [
    "def histogram_generation(d_cutoff, family_df):\n",
    "    def convert_id(val):\n",
    "        val_str = str(val)\n",
    "        if val_str.isdigit():\n",
    "            return int(val_str)\n",
    "        return val_str\n",
    "    family_df[\"PackedName\"] = family_df[\"PackedName\"].apply(convert_id)\n",
    "    name_list = family_df[\"PackedName\"]\n",
    "    family_df = nesvorny_elements[nesvorny_elements[\"Des'n\"].isin(name_list)]\n",
    "    family_pred_df = df_ngb[df_ngb[\"Des'n\"].isin(name_list)]\n",
    "    # Calculate the percentage of machine learning prediction still classifies asteroids into the family\n",
    "    family_pred_df = df_ngb[df_ngb[\"Des'n\"].isin(name_list)]\n",
    "    def calculate_d(a_p, delta_a_p, delta_e_p, delta_sin_i_p):\n",
    "        numerator = 3e4  # 3 × 10^4 m/s\n",
    "        denominator = math.sqrt(a_p)\n",
    "        term1 = (delta_a_p / a_p) ** 2\n",
    "        term2 = 2 * (delta_e_p ** 2)\n",
    "        term3 = 2 * (delta_sin_i_p ** 2)\n",
    "        inside_sqrt = (5 / 4) * term1 + term2 + term3\n",
    "        d = (numerator / denominator) * math.sqrt(inside_sqrt)\n",
    "        return d\n",
    "    \n",
    "    # create a slab enclosing all family members\n",
    "    def slab_d_calc(family_df_copy, family_pred_df_copy, merged_df, command):\n",
    "        if command == \"osculating\":\n",
    "            columns_bound = {\"a\": \"a\", \"e\": \"e\", \"sini\": \"Incl.\"}\n",
    "            columns = {\"a\": \"a\", \"e\": \"e\", \"sini\": \"Incl.\"}\n",
    "        elif command == \"proper\":\n",
    "            columns_bound = {\"a\": \"propa\", \"e\": \"prope\", \"sini\": \"propsini\"}\n",
    "            columns = {\"a\": \"propa\", \"e\": \"prope\", \"sini\": \"propsini\"}\n",
    "        elif command == \"pred\":\n",
    "            # family_df_copy = family_pred_df_copy\n",
    "            columns_bound = {\"a\": \"propa\", \"e\": \"prope\", \"sini\": \"propsini\"}\n",
    "            columns = {\"a\": \"propa\", \"e\": \"pred_e\", \"sini\": \"pred_sini\"}\n",
    "\n",
    "        adds = 0\n",
    "\n",
    "        a_adds = (family_df_copy[columns_bound[\"a\"]].max() - family_df_copy[columns_bound[\"a\"]].min())/2\n",
    "        e_adds = (family_df_copy[columns_bound[\"e\"]].max() - family_df_copy[columns_bound[\"e\"]].min())/2\n",
    "        sini_adds = (family_df_copy[columns_bound[\"sini\"]].max() - family_df_copy[columns_bound[\"sini\"]].min())/2\n",
    "\n",
    "        a_adds = 0\n",
    "        e_adds = 0\n",
    "        sini_adds = 0\n",
    "\n",
    "        a_min, a_max = family_df_copy[columns_bound[\"a\"]].min() - a_adds, family_df_copy[columns_bound[\"a\"]].max() + a_adds\n",
    "        e_min, e_max = family_df_copy[columns_bound[\"e\"]].min() - e_adds, family_df_copy[columns_bound[\"e\"]].max() + e_adds\n",
    "        sini_min, sini_max = family_df_copy[columns_bound[\"sini\"]].min() - sini_adds, family_df_copy[columns_bound[\"sini\"]].max() + sini_adds\n",
    "\n",
    "        slab_df = merged_df[\n",
    "            (merged_df[columns[\"a\"]] >= a_min) & (merged_df[columns[\"a\"]] <= a_max) &\n",
    "            (merged_df[columns[\"e\"]] >= e_min) & (merged_df[columns[\"e\"]] <= e_max) &\n",
    "            (merged_df[columns[\"sini\"]] >= sini_min) & (merged_df[columns[\"sini\"]] <= sini_max)\n",
    "        ]\n",
    "\n",
    "        a_family, e_family, sini_family, names = family_df_copy[columns_bound[\"a\"]].values, family_df_copy[columns_bound[\"e\"]].values, family_df_copy[columns_bound[\"sini\"]].values, family_df_copy[\"Des'n\"].values\n",
    "        \n",
    "        d_results = []\n",
    "        for idx, row in slab_df.iterrows():\n",
    "            a = row[columns[\"a\"]]\n",
    "            e = row[columns[\"e\"]]\n",
    "            sini = row[columns[\"sini\"]]\n",
    "            name = row[\"Des'n\"]\n",
    "            \n",
    "            for a_f, e_f, sini_f, name_f in zip(a_family, e_family, sini_family, names):\n",
    "                if name == name_f:\n",
    "                    continue\n",
    "                else:\n",
    "                    da = a_f - a\n",
    "                    de = e_f - e\n",
    "                    dsini = sini_f - sini\n",
    "                    d = calculate_d(a, da, de, dsini)\n",
    "                    d_results.append({\n",
    "                        \"name_asteroid\": name,\n",
    "                        \"name_family_asteroid\": name_f,\n",
    "                        \"d\": d\n",
    "                    })\n",
    "        d_df = pd.DataFrame(d_results)\n",
    "\n",
    "        return d_df\n",
    "        \n",
    "    d_df = slab_d_calc(family_df, family_pred_df, df_ngb, \"pred\")\n",
    "    d_df_single = d_df.drop_duplicates(subset = [\"name_asteroid\"])\n",
    "    num_family_slab = len(d_df_single[d_df_single[\"name_asteroid\"].isin(name_list)])\n",
    "    filtered_df = d_df[d_df[\"d\"] < float(d_cutoff.iloc[0])]\n",
    "    filtered_df = filtered_df.drop_duplicates(subset = [\"name_asteroid\"])\n",
    "    family_slab_df = filtered_df[filtered_df[\"name_asteroid\"].isin(name_list)]\n",
    "\n",
    "    return len(family_slab_df), num_family_slab, len(filtered_df)"
   ]
  },
  {
   "cell_type": "code",
   "execution_count": 6,
   "id": "8f25c69c",
   "metadata": {},
   "outputs": [
    {
     "ename": "ValueError",
     "evalue": "No objects to concatenate",
     "output_type": "error",
     "traceback": [
      "\u001b[0;31m---------------------------------------------------------------------------\u001b[0m",
      "\u001b[0;31mValueError\u001b[0m                                Traceback (most recent call last)",
      "Cell \u001b[0;32mIn[6], line 36\u001b[0m\n\u001b[1;32m     34\u001b[0m \u001b[38;5;66;03m# Extract and merge\u001b[39;00m\n\u001b[1;32m     35\u001b[0m df_list \u001b[38;5;241m=\u001b[39m [extract_table_from_txt(file) \u001b[38;5;28;01mfor\u001b[39;00m file \u001b[38;5;129;01min\u001b[39;00m all_files]\n\u001b[0;32m---> 36\u001b[0m df_d \u001b[38;5;241m=\u001b[39m pd\u001b[38;5;241m.\u001b[39mconcat(df_list, ignore_index\u001b[38;5;241m=\u001b[39m\u001b[38;5;28;01mTrue\u001b[39;00m)\n",
      "File \u001b[0;32m/home/miniconda3/envs/kdey/lib/python3.12/site-packages/pandas/core/reshape/concat.py:382\u001b[0m, in \u001b[0;36mconcat\u001b[0;34m(objs, axis, join, ignore_index, keys, levels, names, verify_integrity, sort, copy)\u001b[0m\n\u001b[1;32m    379\u001b[0m \u001b[38;5;28;01melif\u001b[39;00m copy \u001b[38;5;129;01mand\u001b[39;00m using_copy_on_write():\n\u001b[1;32m    380\u001b[0m     copy \u001b[38;5;241m=\u001b[39m \u001b[38;5;28;01mFalse\u001b[39;00m\n\u001b[0;32m--> 382\u001b[0m op \u001b[38;5;241m=\u001b[39m _Concatenator(\n\u001b[1;32m    383\u001b[0m     objs,\n\u001b[1;32m    384\u001b[0m     axis\u001b[38;5;241m=\u001b[39maxis,\n\u001b[1;32m    385\u001b[0m     ignore_index\u001b[38;5;241m=\u001b[39mignore_index,\n\u001b[1;32m    386\u001b[0m     join\u001b[38;5;241m=\u001b[39mjoin,\n\u001b[1;32m    387\u001b[0m     keys\u001b[38;5;241m=\u001b[39mkeys,\n\u001b[1;32m    388\u001b[0m     levels\u001b[38;5;241m=\u001b[39mlevels,\n\u001b[1;32m    389\u001b[0m     names\u001b[38;5;241m=\u001b[39mnames,\n\u001b[1;32m    390\u001b[0m     verify_integrity\u001b[38;5;241m=\u001b[39mverify_integrity,\n\u001b[1;32m    391\u001b[0m     copy\u001b[38;5;241m=\u001b[39mcopy,\n\u001b[1;32m    392\u001b[0m     sort\u001b[38;5;241m=\u001b[39msort,\n\u001b[1;32m    393\u001b[0m )\n\u001b[1;32m    395\u001b[0m \u001b[38;5;28;01mreturn\u001b[39;00m op\u001b[38;5;241m.\u001b[39mget_result()\n",
      "File \u001b[0;32m/home/miniconda3/envs/kdey/lib/python3.12/site-packages/pandas/core/reshape/concat.py:445\u001b[0m, in \u001b[0;36m_Concatenator.__init__\u001b[0;34m(self, objs, axis, join, keys, levels, names, ignore_index, verify_integrity, copy, sort)\u001b[0m\n\u001b[1;32m    442\u001b[0m \u001b[38;5;28mself\u001b[39m\u001b[38;5;241m.\u001b[39mverify_integrity \u001b[38;5;241m=\u001b[39m verify_integrity\n\u001b[1;32m    443\u001b[0m \u001b[38;5;28mself\u001b[39m\u001b[38;5;241m.\u001b[39mcopy \u001b[38;5;241m=\u001b[39m copy\n\u001b[0;32m--> 445\u001b[0m objs, keys \u001b[38;5;241m=\u001b[39m \u001b[38;5;28mself\u001b[39m\u001b[38;5;241m.\u001b[39m_clean_keys_and_objs(objs, keys)\n\u001b[1;32m    447\u001b[0m \u001b[38;5;66;03m# figure out what our result ndim is going to be\u001b[39;00m\n\u001b[1;32m    448\u001b[0m ndims \u001b[38;5;241m=\u001b[39m \u001b[38;5;28mself\u001b[39m\u001b[38;5;241m.\u001b[39m_get_ndims(objs)\n",
      "File \u001b[0;32m/home/miniconda3/envs/kdey/lib/python3.12/site-packages/pandas/core/reshape/concat.py:507\u001b[0m, in \u001b[0;36m_Concatenator._clean_keys_and_objs\u001b[0;34m(self, objs, keys)\u001b[0m\n\u001b[1;32m    504\u001b[0m     objs_list \u001b[38;5;241m=\u001b[39m \u001b[38;5;28mlist\u001b[39m(objs)\n\u001b[1;32m    506\u001b[0m \u001b[38;5;28;01mif\u001b[39;00m \u001b[38;5;28mlen\u001b[39m(objs_list) \u001b[38;5;241m==\u001b[39m \u001b[38;5;241m0\u001b[39m:\n\u001b[0;32m--> 507\u001b[0m     \u001b[38;5;28;01mraise\u001b[39;00m \u001b[38;5;167;01mValueError\u001b[39;00m(\u001b[38;5;124m\"\u001b[39m\u001b[38;5;124mNo objects to concatenate\u001b[39m\u001b[38;5;124m\"\u001b[39m)\n\u001b[1;32m    509\u001b[0m \u001b[38;5;28;01mif\u001b[39;00m keys \u001b[38;5;129;01mis\u001b[39;00m \u001b[38;5;28;01mNone\u001b[39;00m:\n\u001b[1;32m    510\u001b[0m     objs_list \u001b[38;5;241m=\u001b[39m \u001b[38;5;28mlist\u001b[39m(com\u001b[38;5;241m.\u001b[39mnot_none(\u001b[38;5;241m*\u001b[39mobjs_list))\n",
      "\u001b[0;31mValueError\u001b[0m: No objects to concatenate"
     ]
    }
   ],
   "source": [
    "import pandas as pd\n",
    "import glob\n",
    "import io  # <-- use this\n",
    "\n",
    "def extract_table_from_txt(path):\n",
    "    \"\"\"Extracts the table portion from one ASCII file and returns a DataFrame.\"\"\"\n",
    "    with open(path, \"r\") as f:\n",
    "        lines = f.readlines()\n",
    "\n",
    "    # Find start of table\n",
    "    start = None\n",
    "    for i, line in enumerate(lines):\n",
    "        if line.strip().startswith(\"Number\"):\n",
    "            start = i\n",
    "            break\n",
    "\n",
    "    # Find end of table\n",
    "    end = None\n",
    "    for i, line in enumerate(lines[start:], start=start):\n",
    "        if line.strip().startswith(\"Note.\"):\n",
    "            end = i\n",
    "            break\n",
    "\n",
    "    # Slice out table lines\n",
    "    table_lines = lines[start:end]\n",
    "\n",
    "    # Read into DataFrame\n",
    "    df = pd.read_csv(io.StringIO(\"\".join(table_lines)), sep=\"\\t+\", engine=\"python\")\n",
    "    return df\n",
    "\n",
    "# Collect all txt files in your folder\n",
    "all_files = glob.glob(\"../family_d_vals/*.txt\")\n",
    "\n",
    "# Extract and merge\n",
    "df_list = [extract_table_from_txt(file) for file in all_files]\n",
    "df_d = pd.concat(df_list, ignore_index=True)"
   ]
  },
  {
   "cell_type": "code",
   "execution_count": null,
   "id": "967ad4f3",
   "metadata": {},
   "outputs": [],
   "source": [
    "dataset_path = Path('../family_tables')\n",
    "filenames = list(dataset_path.glob('*.csv'))\n",
    "name_list = []\n",
    "total_family_list = []\n",
    "true_family_list = []\n",
    "detected_family_list = []"
   ]
  },
  {
   "cell_type": "code",
   "execution_count": 7,
   "id": "fafc6f5f",
   "metadata": {},
   "outputs": [
    {
     "ename": "NameError",
     "evalue": "name 'df_d' is not defined",
     "output_type": "error",
     "traceback": [
      "\u001b[0;31m---------------------------------------------------------------------------\u001b[0m",
      "\u001b[0;31mNameError\u001b[0m                                 Traceback (most recent call last)",
      "Cell \u001b[0;32mIn[7], line 1\u001b[0m\n\u001b[0;32m----> 1\u001b[0m df_d\n",
      "\u001b[0;31mNameError\u001b[0m: name 'df_d' is not defined"
     ]
    }
   ],
   "source": [
    "df_d"
   ]
  },
  {
   "cell_type": "code",
   "execution_count": 8,
   "id": "6bcaff92",
   "metadata": {},
   "outputs": [
    {
     "ename": "NameError",
     "evalue": "name 'filenames' is not defined",
     "output_type": "error",
     "traceback": [
      "\u001b[0;31m---------------------------------------------------------------------------\u001b[0m",
      "\u001b[0;31mNameError\u001b[0m                                 Traceback (most recent call last)",
      "Cell \u001b[0;32mIn[8], line 17\u001b[0m\n\u001b[1;32m     14\u001b[0m     \u001b[38;5;28;01mreturn\u001b[39;00m name\n\u001b[1;32m     16\u001b[0m column_names \u001b[38;5;241m=\u001b[39m [\u001b[38;5;124m'\u001b[39m\u001b[38;5;124mpropa\u001b[39m\u001b[38;5;124m'\u001b[39m, \u001b[38;5;124m'\u001b[39m\u001b[38;5;124mprope\u001b[39m\u001b[38;5;124m'\u001b[39m, \u001b[38;5;124m'\u001b[39m\u001b[38;5;124mpropsini\u001b[39m\u001b[38;5;124m'\u001b[39m, \u001b[38;5;124m'\u001b[39m\u001b[38;5;124mg\u001b[39m\u001b[38;5;124m'\u001b[39m, \u001b[38;5;124m'\u001b[39m\u001b[38;5;124ms\u001b[39m\u001b[38;5;124m'\u001b[39m, \u001b[38;5;124m'\u001b[39m\u001b[38;5;124mH\u001b[39m\u001b[38;5;124m'\u001b[39m, \u001b[38;5;124m'\u001b[39m\u001b[38;5;124mNumOpps\u001b[39m\u001b[38;5;124m'\u001b[39m, \u001b[38;5;124m'\u001b[39m\u001b[38;5;124mPackedName\u001b[39m\u001b[38;5;124m'\u001b[39m, \u001b[38;5;124m'\u001b[39m\u001b[38;5;124mUnpackedName\u001b[39m\u001b[38;5;124m'\u001b[39m]\n\u001b[0;32m---> 17\u001b[0m \u001b[38;5;28;01mfor\u001b[39;00m filename \u001b[38;5;129;01min\u001b[39;00m filenames:\n\u001b[1;32m     18\u001b[0m     \u001b[38;5;28;01mtry\u001b[39;00m:\n\u001b[1;32m     19\u001b[0m         df_family \u001b[38;5;241m=\u001b[39m pd\u001b[38;5;241m.\u001b[39mread_csv(\u001b[38;5;28mstr\u001b[39m(filename), header \u001b[38;5;241m=\u001b[39m \u001b[38;5;28;01mNone\u001b[39;00m, names \u001b[38;5;241m=\u001b[39m column_names)\n",
      "\u001b[0;31mNameError\u001b[0m: name 'filenames' is not defined"
     ]
    }
   ],
   "source": [
    "def change_asteroid_name(name):\n",
    "    if isinstance(name, str):\n",
    "        first_part = name.split(' ')[0]\n",
    "        match = re.match(r'^(?P<year>\\d{4})(?P<letters>[a-zA-Z]+)(?P<numbers>\\d+)$', name)\n",
    "        if first_part.isdigit() or name.replace('.', '').isdigit():\n",
    "            return name\n",
    "        if match:\n",
    "            year = match.group('year')\n",
    "            letters = match.group('letters').upper() # Capitalize all letters\n",
    "            numbers = match.group('numbers')\n",
    "            return f\"{year} {letters}{numbers}\"\n",
    "        else:\n",
    "            return name.title()\n",
    "    return name\n",
    "\n",
    "column_names = ['propa', 'prope', 'propsini', 'g', 's', 'H', 'NumOpps', 'PackedName', 'UnpackedName']\n",
    "for filename in filenames:\n",
    "    try:\n",
    "        df_family = pd.read_csv(str(filename), header = None, names = column_names)\n",
    "        family_name = str(filename).split(\"/\")[-1].split(\".\")[0].split(\"_\")[-2]\n",
    "        family_name = change_asteroid_name(family_name)\n",
    "        d = df_d[df_d[\"Name\"] == family_name][\"HCM Cut\"]\n",
    "        number = df_d[df_d[\"Name\"] == family_name][\"Number of Members\"]\n",
    "        if number.iloc[0] > 50:\n",
    "            true_family, total_family, detected_family = histogram_generation(d, df_family)\n",
    "            name_list.append(filename)\n",
    "            true_family_list.append(true_family)\n",
    "            total_family_list.append(total_family)\n",
    "            detected_family_list.append(detected_family)\n",
    "        else: \n",
    "            continue\n",
    "    except Exception as e:\n",
    "        # This is a general catch-all for any other unexpected errors\n",
    "        print(f\"An unexpected error occurred while processing '{filename}': {e}. Skipping.\")"
   ]
  },
  {
   "cell_type": "code",
   "execution_count": 9,
   "id": "e7900037",
   "metadata": {},
   "outputs": [
    {
     "ename": "NameError",
     "evalue": "name 'true_family_list' is not defined",
     "output_type": "error",
     "traceback": [
      "\u001b[0;31m---------------------------------------------------------------------------\u001b[0m",
      "\u001b[0;31mNameError\u001b[0m                                 Traceback (most recent call last)",
      "Cell \u001b[0;32mIn[9], line 2\u001b[0m\n\u001b[1;32m      1\u001b[0m \u001b[38;5;66;03m# Generate the plot for precision in identifying family members\u001b[39;00m\n\u001b[0;32m----> 2\u001b[0m plt\u001b[38;5;241m.\u001b[39mhist(np\u001b[38;5;241m.\u001b[39marray(true_family_list)\u001b[38;5;241m/\u001b[39mnp\u001b[38;5;241m.\u001b[39marray(detected_family_list) \u001b[38;5;241m*\u001b[39m \u001b[38;5;241m100\u001b[39m)\n\u001b[1;32m      3\u001b[0m plt\u001b[38;5;241m.\u001b[39mxlabel(\u001b[38;5;124m\"\u001b[39m\u001b[38;5;124mML model precision\u001b[39m\u001b[38;5;124m\"\u001b[39m)\n\u001b[1;32m      4\u001b[0m plt\u001b[38;5;241m.\u001b[39msavefig(\u001b[38;5;124m\"\u001b[39m\u001b[38;5;124m../plots/Precision_plot.pdf\u001b[39m\u001b[38;5;124m\"\u001b[39m, bbox_inches\u001b[38;5;241m=\u001b[39m\u001b[38;5;28;01mNone\u001b[39;00m)\n",
      "\u001b[0;31mNameError\u001b[0m: name 'true_family_list' is not defined"
     ]
    }
   ],
   "source": [
    "# Generate the plot for precision in identifying family members\n",
    "plt.hist(np.array(true_family_list)/np.array(detected_family_list) * 100)\n",
    "plt.xlabel(\"ML model precision\")\n",
    "plt.savefig(\"../plots/Precision_plot.pdf\", bbox_inches=None)\n",
    "plt.show()"
   ]
  },
  {
   "cell_type": "code",
   "execution_count": 10,
   "id": "9be2f65b",
   "metadata": {},
   "outputs": [
    {
     "ename": "NameError",
     "evalue": "name 'true_family_list' is not defined",
     "output_type": "error",
     "traceback": [
      "\u001b[0;31m---------------------------------------------------------------------------\u001b[0m",
      "\u001b[0;31mNameError\u001b[0m                                 Traceback (most recent call last)",
      "Cell \u001b[0;32mIn[10], line 2\u001b[0m\n\u001b[1;32m      1\u001b[0m \u001b[38;5;66;03m# Generate the plot for percent of family members detected\u001b[39;00m\n\u001b[0;32m----> 2\u001b[0m plt\u001b[38;5;241m.\u001b[39mhist(np\u001b[38;5;241m.\u001b[39marray(true_family_list)\u001b[38;5;241m/\u001b[39mnp\u001b[38;5;241m.\u001b[39marray(total_family_list) \u001b[38;5;241m*\u001b[39m \u001b[38;5;241m100\u001b[39m)\n\u001b[1;32m      3\u001b[0m plt\u001b[38;5;241m.\u001b[39mxlabel(\u001b[38;5;124m\"\u001b[39m\u001b[38;5;124mPercent of Members in Family Detected\u001b[39m\u001b[38;5;124m\"\u001b[39m)\n\u001b[1;32m      4\u001b[0m plt\u001b[38;5;241m.\u001b[39msavefig(\u001b[38;5;124m\"\u001b[39m\u001b[38;5;124m../plots/Percent_detected_plot.pdf\u001b[39m\u001b[38;5;124m\"\u001b[39m)\n",
      "\u001b[0;31mNameError\u001b[0m: name 'true_family_list' is not defined"
     ]
    }
   ],
   "source": [
    "# Generate the plot for percent of family members detected\n",
    "plt.hist(np.array(true_family_list)/np.array(total_family_list) * 100)\n",
    "plt.xlabel(\"Percent of Members in Family Detected\")\n",
    "plt.savefig(\"../plots/Percent_detected_plot.pdf\")"
   ]
  },
  {
   "cell_type": "code",
   "execution_count": 11,
   "id": "ba2e8232",
   "metadata": {},
   "outputs": [
    {
     "ename": "NameError",
     "evalue": "name 'true_family_list' is not defined",
     "output_type": "error",
     "traceback": [
      "\u001b[0;31m---------------------------------------------------------------------------\u001b[0m",
      "\u001b[0;31mNameError\u001b[0m                                 Traceback (most recent call last)",
      "Cell \u001b[0;32mIn[11], line 2\u001b[0m\n\u001b[1;32m      1\u001b[0m \u001b[38;5;66;03m# print out the family that model has a low precision to identify out\u001b[39;00m\n\u001b[0;32m----> 2\u001b[0m precision \u001b[38;5;241m=\u001b[39m np\u001b[38;5;241m.\u001b[39marray(true_family_list)\u001b[38;5;241m/\u001b[39mnp\u001b[38;5;241m.\u001b[39marray(detected_family_list) \u001b[38;5;241m*\u001b[39m \u001b[38;5;241m100\u001b[39m\n\u001b[1;32m      3\u001b[0m indices \u001b[38;5;241m=\u001b[39m [i \u001b[38;5;28;01mfor\u001b[39;00m i, val \u001b[38;5;129;01min\u001b[39;00m \u001b[38;5;28menumerate\u001b[39m(precision) \u001b[38;5;28;01mif\u001b[39;00m val \u001b[38;5;241m<\u001b[39m \u001b[38;5;241m50\u001b[39m]\n\u001b[1;32m      4\u001b[0m \u001b[38;5;28;01mfor\u001b[39;00m i \u001b[38;5;129;01min\u001b[39;00m indices:\n",
      "\u001b[0;31mNameError\u001b[0m: name 'true_family_list' is not defined"
     ]
    }
   ],
   "source": [
    "# print out the family that model has a low precision to identify out\n",
    "precision = np.array(true_family_list)/np.array(detected_family_list) * 100\n",
    "indices = [i for i, val in enumerate(precision) if val < 50]\n",
    "for i in indices:\n",
    "    print(name_list[i])"
   ]
  },
  {
   "cell_type": "code",
   "execution_count": null,
   "id": "b9abb31f",
   "metadata": {},
   "outputs": [],
   "source": []
  }
 ],
 "metadata": {
  "kernelspec": {
   "display_name": "kdey",
   "language": "python",
   "name": "python3"
  },
  "language_info": {
   "codemirror_mode": {
    "name": "ipython",
    "version": 3
   },
   "file_extension": ".py",
   "mimetype": "text/x-python",
   "name": "python",
   "nbconvert_exporter": "python",
   "pygments_lexer": "ipython3",
   "version": "3.12.8"
  }
 },
 "nbformat": 4,
 "nbformat_minor": 5
}
